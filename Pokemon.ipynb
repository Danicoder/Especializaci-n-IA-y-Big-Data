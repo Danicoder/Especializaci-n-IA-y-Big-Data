{
  "cells": [
    {
      "cell_type": "markdown",
      "metadata": {
        "id": "view-in-github",
        "colab_type": "text"
      },
      "source": [
        "<a href=\"https://colab.research.google.com/github/Danicoder/Especializacion_IA_BigData/blob/main/Pokemon.ipynb\" target=\"_parent\"><img src=\"https://colab.research.google.com/assets/colab-badge.svg\" alt=\"Open In Colab\"/></a>"
      ]
    },
    {
      "cell_type": "code",
      "source": [
        "import pandas as pd\n",
        "#Directorio\n",
        "dic_datos = {\n",
        "    \"Nombre\": ['Bulbasaur', 'Charmander', 'Sqirtle', 'Caterpie', 'Golduck'],\n",
        "    \"Evolución\": ['Ivysaur', 'Charmeleon', 'Wartortle', 'Metapod', 'Kodakku'],\n",
        "    \"Tipo\": ['cesped', 'fuego', 'agua', 'bicho', 'agua'],\n",
        "    \"Hp\": [45, 39, 44, 45, 139],\n",
        "    \"Pokedex\": ['Si', 'No', 'Si', 'No', 'Si']\n",
        "}\n",
        "#Asignación DataFrame\n",
        "pokemon = pd.DataFrame(dic_datos)\n",
        "#Visualización\n",
        "pokemon = pd.DataFrame(dic_datos)\n",
        "#Devuelve las 5 primeras filas por defecto\n",
        "print(\"\\nDataFrame sin ordenar:\")\n",
        "print(pokemon.head())\n",
        "#Reordena\n",
        "pokemon = pokemon[['Nombre','Tipo', 'Hp','Evolución','Pokedex']]\n",
        "print(\"\\nDataFrame reordenado:\")\n",
        "print(pokemon)\n",
        "#Tipo de dato de cada columna:\n",
        "print(\"\\nDataFrame reordenado por columna:\")\n",
        "print(pokemon.dtypes)\n",
        "#ordenado por tipo de pokemon\n",
        "print(\"\\nDataFrame reordenado por tipo:\")\n",
        "pokemon.sort_values(by=\"Tipo\")\n",
        "#Convierte a mayúsculas el contenido de la columna de Conversión\n",
        "print(\"\\nConviersión contenido columna:\")\n",
        "print(pokemon['Evolución'].str.upper())\n",
        "#Suma agrupada\n",
        "print(f\"Suma total: {pokemon['Hp'].sum()}\")"
      ],
      "metadata": {
        "id": "AE8sKuVKQUkr",
        "outputId": "735ecad7-57ed-40e7-c0af-709aa5c5fb2e",
        "colab": {
          "base_uri": "https://localhost:8080/"
        }
      },
      "execution_count": 60,
      "outputs": [
        {
          "output_type": "stream",
          "name": "stdout",
          "text": [
            "\n",
            "DataFrame sin ordenar:\n",
            "       Nombre   Evolución    Tipo   Hp Pokedex\n",
            "0   Bulbasaur     Ivysaur  cesped   45      Si\n",
            "1  Charmander  Charmeleon   fuego   39      No\n",
            "2     Sqirtle   Wartortle    agua   44      Si\n",
            "3    Caterpie     Metapod   bicho   45      No\n",
            "4     Golduck     Kodakku    agua  139      Si\n",
            "\n",
            "DataFrame reordenado:\n",
            "       Nombre    Tipo   Hp   Evolución Pokedex\n",
            "0   Bulbasaur  cesped   45     Ivysaur      Si\n",
            "1  Charmander   fuego   39  Charmeleon      No\n",
            "2     Sqirtle    agua   44   Wartortle      Si\n",
            "3    Caterpie   bicho   45     Metapod      No\n",
            "4     Golduck    agua  139     Kodakku      Si\n",
            "\n",
            "DataFrame reordenado por columna:\n",
            "Nombre       object\n",
            "Tipo         object\n",
            "Hp            int64\n",
            "Evolución    object\n",
            "Pokedex      object\n",
            "dtype: object\n",
            "\n",
            "DataFrame reordenado por tipo:\n",
            "\n",
            "Conviersión contenido columna:\n",
            "0       IVYSAUR\n",
            "1    CHARMELEON\n",
            "2     WARTORTLE\n",
            "3       METAPOD\n",
            "4       KODAKKU\n",
            "Name: Evolución, dtype: object\n",
            "Suma total: 312\n"
          ]
        }
      ]
    }
  ],
  "metadata": {
    "colab": {
      "name": "Te damos la bienvenida a Colaboratory",
      "provenance": [],
      "include_colab_link": true
    },
    "kernelspec": {
      "display_name": "Python 3",
      "name": "python3"
    }
  },
  "nbformat": 4,
  "nbformat_minor": 0
}